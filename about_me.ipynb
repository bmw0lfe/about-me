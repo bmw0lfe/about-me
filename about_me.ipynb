{
  "nbformat": 4,
  "nbformat_minor": 0,
  "metadata": {
    "colab": {
      "provenance": [],
      "toc_visible": true
    },
    "kernelspec": {
      "name": "python3",
      "display_name": "Python 3"
    }
  },
  "cells": [
    {
      "cell_type": "markdown",
      "source": [
        "##My name is Bryce White"
      ],
      "metadata": {
        "id": "zwooGUGKTGyH"
      }
    },
    {
      "cell_type": "markdown",
      "source": [
        "###I recently moved back to Albuquerque from LA. *population density might have been a factor*"
      ],
      "metadata": {
        "id": "3sKZm-xnTZFg"
      }
    },
    {
      "cell_type": "markdown",
      "source": [
        "### I enjoy\n",
        "- hiking\n",
        "- snowboarding\n",
        "- gaming\n",
        "- challenging my mind and body\n",
        "- any activity with my fiance\n"
      ],
      "metadata": {
        "id": "0p9tk6oWUdgK"
      }
    },
    {
      "cell_type": "markdown",
      "source": [
        "# My github account can be found at\n",
        "https://github.com/whitebryce"
      ],
      "metadata": {
        "id": "vUxGzOexVAXz"
      }
    },
    {
      "cell_type": "markdown",
      "source": [
        "\n",
        "## **Bonus**\n"
      ],
      "metadata": {
        "id": "F__4rmBpkm6b"
      }
    },
    {
      "cell_type": "markdown",
      "source": [
        "- I want to make a drastic career change and this *bootcamp* seemed to be the best fit\n",
        "- Bear/wolf\n",
        "- undecided for 3 phone apps to keep\n",
        "- yes, in a multitude of situations my brother took the wrap\n"
      ],
      "metadata": {
        "id": "dX40-hosklXz"
      }
    }
  ]
}